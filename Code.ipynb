{
 "cells": [
  {
   "cell_type": "code",
   "execution_count": 1,
   "metadata": {},
   "outputs": [
    {
     "name": "stdout",
     "output_type": "stream",
     "text": [
      "{'items': {'sword': 10, 'axe': 20}}\n",
      "{'items': {'gun': 10, 'axe': 20}}\n"
     ]
    }
   ],
   "source": [
    "import yaml\n",
    "\n",
    "def yaml_loader(filepath):\n",
    "    with open(filepath,'r+') as fy:\n",
    "        data = yaml.load(fy)\n",
    "    return data\n",
    "\n",
    "def yaml_dump(filepath,data):\n",
    "    with open(filepath,'r+') as fy:\n",
    "        yaml.dump(data,fy)\n",
    "\n",
    "filepath = 'ty1.yaml'\n",
    "d = yaml_loader(filepath)\n",
    "filepath = 'ty2.yaml'\n",
    "d2 = yaml_loader(filepath)\n",
    "print(d)\n",
    "print(d2)\n",
    "yaml_dump('ty3.yaml',d)\n",
    "yaml_dump('ty3.yaml',d2)"
   ]
  },
  {
   "cell_type": "code",
   "execution_count": 87,
   "metadata": {},
   "outputs": [
    {
     "name": "stdout",
     "output_type": "stream",
     "text": [
      "{'items': {'sword': {'size': 12}, 'axe': {'size': 13}, 'rocket': ['12', '15'], 'pistol': 'old'}, 'property': {'House': {'duplex': 12, 'bunglow': 14, 'flat': {'1-bhk': {'hall': 2, 'kitchen': 3}, '2-bhk': 5, '3-bhk': 8}}}, 'list': ['cat', 'elephant'], 'li': ['tiger', 'deer']}\n",
      "{'items': {'gun': 10, 'axe': {'size': 15}, 'rocket': ['??', '12'], 'pistol': 'new'}, 'property': {'House': {'duplex': 45}}, 'li': ['deer', 'rabbit']}\n",
      "h\n",
      "h1\n",
      "{'sword': {'size': 12}, 'gun': 10}\n",
      "h1\n",
      "{'sword': {'size': 12}, 'gun': 10, 'axe': {'size': 15}}\n",
      "h1\n",
      "{'sword': {'size': 12}, 'gun': 10, 'axe': {'size': 15}, 'rocket': ['??', '12']}\n",
      "h1\n",
      "{'sword': {'size': 12}, 'gun': 10, 'axe': {'size': 15}, 'rocket': ['??', '12'], 'pistol': 'new'}\n",
      "h1\n",
      "{'sword': {'size': 12}, 'gun': 10, 'axe': {'size': 13}, 'rocket': ['??', '12'], 'pistol': 'new'}\n",
      "h\n",
      "{'axe': {'sword': {'size': 12}, 'gun': 10, 'axe': {'size': 13}, 'rocket': ['??', '12'], 'pistol': 'new'}}\n",
      "{'sword': {'size': 12}, 'gun': 10, 'axe': {'size': 13}, 'rocket': ['??', '12'], 'pistol': 'new'}\n",
      "{'sword': {'size': 12}, 'gun': 10, 'axe': {'size': 13}, 'rocket': ['??', '12'], 'pistol': 'new'}\n",
      "h1\n",
      "{'sword': {'size': 12}, 'gun': 10, 'axe': {'size': 13}, 'rocket': ['12', '15'], 'pistol': 'new'}\n",
      "h1\n",
      "h1\n",
      "{'sword': {'size': 12}, 'gun': 10, 'axe': {'size': 13}, 'rocket': ['12', '15'], 'pistol': 'new'}\n",
      "h1\n",
      "{'sword': {'size': 12}, 'gun': 10, 'axe': {'size': 13}, 'rocket': ['12', '15'], 'pistol': 'old'}\n",
      "h1\n",
      "h1\n",
      "{'sword': {'size': 12}, 'gun': 10, 'axe': {'size': 13}, 'rocket': ['??', '12'], 'pistol': 'old'}\n",
      "{'axe': {'sword': {'size': 12}, 'gun': 10, 'axe': {'size': 13}, 'rocket': ['??', '12'], 'pistol': 'old'}, 'items': {'sword': {'size': 12}, 'gun': 10, 'axe': {'size': 13}, 'rocket': ['??', '12'], 'pistol': 'old'}}\n",
      "{'sword': {'size': 12}, 'gun': 10, 'axe': {'size': 13}, 'rocket': ['??', '12'], 'pistol': 'old', 'property': {'House': {'duplex': 45}}}\n",
      "{'sword': {'size': 12}, 'gun': 10, 'axe': {'size': 13}, 'rocket': ['??', '12'], 'pistol': 'old', 'property': {'House': {'duplex': 45}}, 'li': ['deer', 'rabbit']}\n",
      "h1\n",
      "h\n",
      "h\n",
      "h1\n",
      "{'sword': {'size': 12}, 'gun': 10, 'axe': {'size': 13}, 'rocket': ['??', '12'], 'pistol': 'old', 'property': {'House': {'duplex': 12, 'bunglow': 14, 'flat': {'1-bhk': {'hall': 2, 'kitchen': 3}, '2-bhk': 5, '3-bhk': 8}}}, 'li': ['deer', 'rabbit'], 'bunglow': 14, 'duplex': 45}\n",
      "h1\n",
      "{'sword': {'size': 12}, 'gun': 10, 'axe': {'size': 13}, 'rocket': ['??', '12'], 'pistol': 'old', 'property': {'House': {'duplex': 12, 'bunglow': 14, 'flat': {'1-bhk': {'hall': 2, 'kitchen': 3}, '2-bhk': 5, '3-bhk': 8}}}, 'li': ['deer', 'rabbit'], 'bunglow': 14, 'duplex': 45, 'flat': {'1-bhk': {'hall': 2, 'kitchen': 3}, '2-bhk': 5, '3-bhk': 8}}\n",
      "{'axe': {'sword': {'size': 12}, 'gun': 10, 'axe': {'size': 13}, 'rocket': ['??', '12'], 'pistol': 'old', 'property': {'House': {'duplex': 12, 'bunglow': 14, 'flat': {'1-bhk': {'hall': 2, 'kitchen': 3}, '2-bhk': 5, '3-bhk': 8}}}, 'li': ['deer', 'rabbit'], 'bunglow': 14, 'duplex': 45, 'flat': {'1-bhk': {'hall': 2, 'kitchen': 3}, '2-bhk': 5, '3-bhk': 8}}, 'items': {'sword': {'size': 12}, 'gun': 10, 'axe': {'size': 13}, 'rocket': ['??', '12'], 'pistol': 'old', 'property': {'House': {'duplex': 12, 'bunglow': 14, 'flat': {'1-bhk': {'hall': 2, 'kitchen': 3}, '2-bhk': 5, '3-bhk': 8}}}, 'li': ['deer', 'rabbit'], 'bunglow': 14, 'duplex': 45, 'flat': {'1-bhk': {'hall': 2, 'kitchen': 3}, '2-bhk': 5, '3-bhk': 8}}, 'House': {'sword': {'size': 12}, 'gun': 10, 'axe': {'size': 13}, 'rocket': ['??', '12'], 'pistol': 'old', 'property': {'House': {'duplex': 12, 'bunglow': 14, 'flat': {'1-bhk': {'hall': 2, 'kitchen': 3}, '2-bhk': 5, '3-bhk': 8}}}, 'li': ['deer', 'rabbit'], 'bunglow': 14, 'duplex': 45, 'flat': {'1-bhk': {'hall': 2, 'kitchen': 3}, '2-bhk': 5, '3-bhk': 8}}}\n",
      "{'axe': {'sword': {'size': 12}, 'gun': 10, 'axe': {'size': 13}, 'rocket': ['??', '12'], 'pistol': 'old', 'property': {'House': {'duplex': 12, 'bunglow': 14, 'flat': {'1-bhk': {'hall': 2, 'kitchen': 3}, '2-bhk': 5, '3-bhk': 8}}}, 'li': ['deer', 'rabbit'], 'bunglow': 14, 'duplex': 45, 'flat': {'1-bhk': {'hall': 2, 'kitchen': 3}, '2-bhk': 5, '3-bhk': 8}}, 'items': {'sword': {'size': 12}, 'gun': 10, 'axe': {'size': 13}, 'rocket': ['??', '12'], 'pistol': 'old', 'property': {'House': {'duplex': 12, 'bunglow': 14, 'flat': {'1-bhk': {'hall': 2, 'kitchen': 3}, '2-bhk': 5, '3-bhk': 8}}}, 'li': ['deer', 'rabbit'], 'bunglow': 14, 'duplex': 45, 'flat': {'1-bhk': {'hall': 2, 'kitchen': 3}, '2-bhk': 5, '3-bhk': 8}}, 'House': {'sword': {'size': 12}, 'gun': 10, 'axe': {'size': 13}, 'rocket': ['??', '12'], 'pistol': 'old', 'property': {'House': {'duplex': 12, 'bunglow': 14, 'flat': {'1-bhk': {'hall': 2, 'kitchen': 3}, '2-bhk': 5, '3-bhk': 8}}}, 'li': ['deer', 'rabbit'], 'bunglow': 14, 'duplex': 45, 'flat': {'1-bhk': {'hall': 2, 'kitchen': 3}, '2-bhk': 5, '3-bhk': 8}}, 'property': {'sword': {'size': 12}, 'gun': 10, 'axe': {'size': 13}, 'rocket': ['??', '12'], 'pistol': 'old', 'property': {'House': {'duplex': 12, 'bunglow': 14, 'flat': {'1-bhk': {'hall': 2, 'kitchen': 3}, '2-bhk': 5, '3-bhk': 8}}}, 'li': ['deer', 'rabbit'], 'bunglow': 14, 'duplex': 45, 'flat': {'1-bhk': {'hall': 2, 'kitchen': 3}, '2-bhk': 5, '3-bhk': 8}}}\n",
      "{'sword': {'size': 12}, 'gun': 10, 'axe': {'size': 13}, 'rocket': ['??', '12'], 'pistol': 'old', 'property': {'House': {'duplex': 12, 'bunglow': 14, 'flat': {'1-bhk': {'hall': 2, 'kitchen': 3}, '2-bhk': 5, '3-bhk': 8}}}, 'li': ['deer', 'rabbit'], 'bunglow': 14, 'duplex': 45, 'flat': {'1-bhk': {'hall': 2, 'kitchen': 3}, '2-bhk': 5, '3-bhk': 8}}\n",
      "h1\n",
      "h1\n",
      "h1\n",
      "{'sword': {'size': 12}, 'gun': 10, 'axe': {'size': 13}, 'rocket': ['??', '12'], 'pistol': 'old', 'property': {'House': {'duplex': 12, 'bunglow': 14, 'flat': {'1-bhk': {'hall': 2, 'kitchen': 3}, '2-bhk': 5, '3-bhk': 8}}}, 'li': ['deer', 'rabbit'], 'bunglow': 14, 'duplex': 45, 'flat': {'1-bhk': {'hall': 2, 'kitchen': 3}, '2-bhk': 5, '3-bhk': 8}, 'list': ['cat', 'elephant']}\n",
      "h1\n",
      "h1\n",
      "{'axe': {'sword': {'size': 12}, 'gun': 10, 'axe': {'size': 13}, 'rocket': ['??', '12'], 'pistol': 'old', 'property': {'House': {'duplex': 12, 'bunglow': 14, 'flat': {'1-bhk': {'hall': 2, 'kitchen': 3}, '2-bhk': 5, '3-bhk': 8}}}, 'li': ['tiger', 'deer'], 'bunglow': 14, 'duplex': 45, 'flat': {'1-bhk': {'hall': 2, 'kitchen': 3}, '2-bhk': 5, '3-bhk': 8}, 'list': ['cat', 'elephant']}, 'items': {'sword': {'size': 12}, 'gun': 10, 'axe': {'size': 13}, 'rocket': ['??', '12'], 'pistol': 'old', 'property': {'House': {'duplex': 12, 'bunglow': 14, 'flat': {'1-bhk': {'hall': 2, 'kitchen': 3}, '2-bhk': 5, '3-bhk': 8}}}, 'li': ['tiger', 'deer'], 'bunglow': 14, 'duplex': 45, 'flat': {'1-bhk': {'hall': 2, 'kitchen': 3}, '2-bhk': 5, '3-bhk': 8}, 'list': ['cat', 'elephant']}, 'House': {'sword': {'size': 12}, 'gun': 10, 'axe': {'size': 13}, 'rocket': ['??', '12'], 'pistol': 'old', 'property': {'House': {'duplex': 12, 'bunglow': 14, 'flat': {'1-bhk': {'hall': 2, 'kitchen': 3}, '2-bhk': 5, '3-bhk': 8}}}, 'li': ['tiger', 'deer'], 'bunglow': 14, 'duplex': 45, 'flat': {'1-bhk': {'hall': 2, 'kitchen': 3}, '2-bhk': 5, '3-bhk': 8}, 'list': ['cat', 'elephant']}, 'property': {'sword': {'size': 12}, 'gun': 10, 'axe': {'size': 13}, 'rocket': ['??', '12'], 'pistol': 'old', 'property': {'House': {'duplex': 12, 'bunglow': 14, 'flat': {'1-bhk': {'hall': 2, 'kitchen': 3}, '2-bhk': 5, '3-bhk': 8}}}, 'li': ['tiger', 'deer'], 'bunglow': 14, 'duplex': 45, 'flat': {'1-bhk': {'hall': 2, 'kitchen': 3}, '2-bhk': 5, '3-bhk': 8}, 'list': ['cat', 'elephant']}}\n"
     ]
    }
   ],
   "source": [
    "import yaml\n",
    "\n",
    "def yaml_loader(filepath):\n",
    "    with open(filepath,'r+') as fy:\n",
    "        data = yaml.load(fy)\n",
    "    return data\n",
    "\n",
    "def yaml_dump(filepath,data):\n",
    "    with open(filepath,'r+') as fy:\n",
    "        yaml.dump(data,fy)\n",
    "\n",
    "filepath = 'ty1.yaml'\n",
    "a1 = yaml_loader(filepath)\n",
    "filepath = 'ty2.yaml'\n",
    "a2 = yaml_loader(filepath)\n",
    "s = dict()\n",
    "s1 = dict()\n",
    "def iter_merge(d1,d2):\n",
    "    for k1,v1 in d1.items():\n",
    "        for k2,v2 in d2.items():\n",
    "            #print(k1,k2,v1,v2)\n",
    "            if k1==k2 and type(v1)==dict and type(v2)==dict:\n",
    "                print(\"h\")\n",
    "                s[k1] = iter_merge(v1,v2)\n",
    "                print(s)\n",
    "                #print(\"ho\")\n",
    "            elif k1!=k2:\n",
    "                if k1 not in s:\n",
    "                    print(\"h1\")\n",
    "                    s1[k1] = v1\n",
    "                if k2 not in s:\n",
    "                    s1[k2] = v2\n",
    "                    print(s1)\n",
    "    return s1\n",
    "print(a1)\n",
    "print(a2)\n",
    "iter_merge(a1,a2)\n",
    "print(s)\n",
    "yaml_dump('ty3.yaml',s)"
   ]
  },
  {
   "cell_type": "code",
   "execution_count": 61,
   "metadata": {},
   "outputs": [
    {
     "name": "stdout",
     "output_type": "stream",
     "text": [
      "{'items': {'gun': 10, 'axe': 20}}\n"
     ]
    }
   ],
   "source": [
    "def Merge(dict1, dict2): \n",
    "    res = {**dict1, **dict2} \n",
    "    return res \n",
    "\n",
    "dict1 = {'a': 10, 'b': 8} \n",
    "dict2 = {'d': 6, 'c': 4} \n",
    "dict3 = Merge(d, a)\n",
    "print(dict3)"
   ]
  },
  {
   "cell_type": "code",
   "execution_count": 99,
   "metadata": {},
   "outputs": [
    {
     "name": "stdout",
     "output_type": "stream",
     "text": [
      "{'Hello': 56, 'at': 23, 'test': 43, 'this': 43, 'before': 23}\n"
     ]
    }
   ],
   "source": [
    "# Dictionary of strings and ints\n",
    "wordFreqDic = {\n",
    "\"Hello\": 56,\n",
    "\"at\" : 23 ,\n",
    "\"test\" : 43,\n",
    "\"this\" : 43}\n",
    "# Adding a new key value pair\n",
    "wordFreqDic.update( {'before' : 23} )\n",
    "print(wordFreqDic)"
   ]
  },
  {
   "cell_type": "code",
   "execution_count": 71,
   "metadata": {},
   "outputs": [
    {
     "ename": "IndentationError",
     "evalue": "unindent does not match any outer indentation level (<ipython-input-71-5ec57c0b67b5>, line 35)",
     "output_type": "error",
     "traceback": [
      "\u001b[1;36m  File \u001b[1;32m\"<ipython-input-71-5ec57c0b67b5>\"\u001b[1;36m, line \u001b[1;32m35\u001b[0m\n\u001b[1;33m    return s1\u001b[0m\n\u001b[1;37m             ^\u001b[0m\n\u001b[1;31mIndentationError\u001b[0m\u001b[1;31m:\u001b[0m unindent does not match any outer indentation level\n"
     ]
    }
   ],
   "source": [
    "import yaml\n",
    "\n",
    "def yaml_loader(filepath):\n",
    "    with open(filepath,'r+') as fy:\n",
    "        data = yaml.load(fy)\n",
    "    return data\n",
    "\n",
    "def yaml_dump(filepath,data):\n",
    "    with open(filepath,'r+') as fy:\n",
    "        yaml.dump(data,fy)\n",
    "\n",
    "filepath = 'ty1.yaml'\n",
    "a1 = yaml_loader(filepath)\n",
    "filepath = 'ty2.yaml'\n",
    "a2 = yaml_loader(filepath)\n",
    "s = dict()\n",
    "s1 = dict()\n",
    "def iter_merge(d1,d2):\n",
    "    for k1,v1 in d1.items():\n",
    "        for k2,v2 in d2.items():\n",
    "            if k1==k2 and type(v1)==dict and type(v2)==dict:\n",
    "                #print(\"h\")\n",
    "                s[k1] = iter_merge2(v1,v2)\n",
    "                print(s)\n",
    "                \n",
    "def iter_merge2(d1,d2):\n",
    "     for k1,v1 in d1.items():\n",
    "        for k2,v2 in d2.items():\n",
    "            if k1!=k2:\n",
    "                if k1 not in s1:\n",
    "                    #print(\"h1\")\n",
    "                    s1[k1] = v1\n",
    "                if k2 not in s1:\n",
    "                    s1[k2] = v2\n",
    "    return s1\n",
    "print(a1)\n",
    "print(a2)\n",
    "iter_merge(a1,a2)\n",
    "print(s)\n",
    "yaml_dump('ty3.yaml',s)"
   ]
  },
  {
   "cell_type": "code",
   "execution_count": 91,
   "metadata": {},
   "outputs": [
    {
     "name": "stdout",
     "output_type": "stream",
     "text": [
      "None\n",
      "list\n",
      "li\n",
      "items\n",
      "items\n",
      "items\n",
      "sword\n",
      "{'list': ['cat', 'elephant'], 'li': ['deer', 'rabbit', 'tiger']}\n",
      "{'list': ['cat', 'elephant'], 'li': ['deer', 'rabbit', 'tiger']}\n"
     ]
    },
    {
     "ename": "KeyError",
     "evalue": "'items'",
     "output_type": "error",
     "traceback": [
      "\u001b[1;31m---------------------------------------------------------------------------\u001b[0m",
      "\u001b[1;31mKeyError\u001b[0m                                  Traceback (most recent call last)",
      "\u001b[1;32m<ipython-input-91-8b227b995975>\u001b[0m in \u001b[0;36m<module>\u001b[1;34m()\u001b[0m\n\u001b[0;32m     71\u001b[0m \u001b[0mfilepath\u001b[0m \u001b[1;33m=\u001b[0m \u001b[1;34m'ty2.yaml'\u001b[0m\u001b[1;33m\u001b[0m\u001b[0m\n\u001b[0;32m     72\u001b[0m \u001b[0ma2\u001b[0m \u001b[1;33m=\u001b[0m \u001b[0myaml_loader\u001b[0m\u001b[1;33m(\u001b[0m\u001b[0mfilepath\u001b[0m\u001b[1;33m)\u001b[0m\u001b[1;33m\u001b[0m\u001b[0m\n\u001b[1;32m---> 73\u001b[1;33m \u001b[0mmiter\u001b[0m\u001b[1;33m(\u001b[0m\u001b[0ma1\u001b[0m\u001b[1;33m,\u001b[0m\u001b[0ma2\u001b[0m\u001b[1;33m)\u001b[0m\u001b[1;33m\u001b[0m\u001b[0m\n\u001b[0m\u001b[0;32m     74\u001b[0m \u001b[1;32mdel\u001b[0m\u001b[1;33m(\u001b[0m\u001b[0md\u001b[0m\u001b[1;33m[\u001b[0m\u001b[1;32mNone\u001b[0m\u001b[1;33m]\u001b[0m\u001b[1;33m)\u001b[0m\u001b[1;33m\u001b[0m\u001b[0m\n\u001b[0;32m     75\u001b[0m \u001b[0mprint\u001b[0m\u001b[1;33m(\u001b[0m\u001b[0md\u001b[0m\u001b[1;33m)\u001b[0m\u001b[1;33m\u001b[0m\u001b[0m\n",
      "\u001b[1;32m<ipython-input-91-8b227b995975>\u001b[0m in \u001b[0;36mmiter\u001b[1;34m(da1, da2, key)\u001b[0m\n\u001b[0;32m     41\u001b[0m                 \u001b[0mprint\u001b[0m\u001b[1;33m(\u001b[0m\u001b[0mk\u001b[0m\u001b[1;33m)\u001b[0m\u001b[1;33m\u001b[0m\u001b[0m\n\u001b[0;32m     42\u001b[0m                 \u001b[1;32mif\u001b[0m \u001b[0mkey\u001b[0m \u001b[1;33m==\u001b[0m \u001b[1;32mNone\u001b[0m\u001b[1;33m:\u001b[0m\u001b[1;33m\u001b[0m\u001b[0m\n\u001b[1;32m---> 43\u001b[1;33m                     \u001b[0md\u001b[0m\u001b[1;33m[\u001b[0m\u001b[0mk\u001b[0m\u001b[1;33m]\u001b[0m \u001b[1;33m=\u001b[0m \u001b[0mmiter\u001b[0m\u001b[1;33m(\u001b[0m\u001b[0mda1\u001b[0m\u001b[1;33m[\u001b[0m\u001b[0mk\u001b[0m\u001b[1;33m]\u001b[0m\u001b[1;33m,\u001b[0m\u001b[0mda2\u001b[0m\u001b[1;33m[\u001b[0m\u001b[0mk\u001b[0m\u001b[1;33m]\u001b[0m\u001b[1;33m,\u001b[0m\u001b[0mk\u001b[0m\u001b[1;33m)\u001b[0m\u001b[1;33m\u001b[0m\u001b[0m\n\u001b[0m\u001b[0;32m     44\u001b[0m                 \u001b[1;32mif\u001b[0m \u001b[0mkey\u001b[0m \u001b[1;33m!=\u001b[0m \u001b[1;32mNone\u001b[0m\u001b[1;33m:\u001b[0m\u001b[1;33m\u001b[0m\u001b[0m\n\u001b[0;32m     45\u001b[0m                     \u001b[0ml\u001b[0m \u001b[1;33m=\u001b[0m \u001b[0mlist\u001b[0m\u001b[1;33m(\u001b[0m\u001b[1;33m)\u001b[0m\u001b[1;33m\u001b[0m\u001b[0m\n",
      "\u001b[1;32m<ipython-input-91-8b227b995975>\u001b[0m in \u001b[0;36mmiter\u001b[1;34m(da1, da2, key)\u001b[0m\n\u001b[0;32m     26\u001b[0m             \u001b[0mprint\u001b[0m\u001b[1;33m(\u001b[0m\u001b[0md\u001b[0m\u001b[1;33m)\u001b[0m\u001b[1;33m\u001b[0m\u001b[0m\n\u001b[0;32m     27\u001b[0m             \u001b[0mprint\u001b[0m\u001b[1;33m(\u001b[0m\u001b[0md\u001b[0m\u001b[1;33m)\u001b[0m\u001b[1;33m\u001b[0m\u001b[0m\n\u001b[1;32m---> 28\u001b[1;33m             \u001b[0md\u001b[0m\u001b[1;33m[\u001b[0m\u001b[0mkey\u001b[0m\u001b[1;33m]\u001b[0m\u001b[1;33m[\u001b[0m\u001b[0mi\u001b[0m\u001b[1;33m]\u001b[0m \u001b[1;33m=\u001b[0m \u001b[0ma1\u001b[0m\u001b[1;33m[\u001b[0m\u001b[0mkey\u001b[0m\u001b[1;33m]\u001b[0m\u001b[1;33m[\u001b[0m\u001b[0mi\u001b[0m\u001b[1;33m]\u001b[0m\u001b[1;33m\u001b[0m\u001b[0m\n\u001b[0m\u001b[0;32m     29\u001b[0m     \u001b[1;32mfor\u001b[0m \u001b[0mj\u001b[0m \u001b[1;32min\u001b[0m \u001b[0msa2\u001b[0m \u001b[1;33m-\u001b[0m \u001b[0msa1\u001b[0m\u001b[1;33m:\u001b[0m\u001b[1;33m\u001b[0m\u001b[0m\n\u001b[0;32m     30\u001b[0m         \u001b[1;31m#print(j)\u001b[0m\u001b[1;33m\u001b[0m\u001b[1;33m\u001b[0m\u001b[0m\n",
      "\u001b[1;31mKeyError\u001b[0m: 'items'"
     ]
    }
   ],
   "source": [
    "import yaml\n",
    "import os\n",
    "\n",
    "def yaml_loader(filepath):\n",
    "    with open(filepath,'r+') as fy:\n",
    "        data = yaml.load(fy)\n",
    "    return data\n",
    "\n",
    "def yaml_dump(filepath,data):\n",
    "    with open(filepath,'r+') as fy:\n",
    "        yaml.dump(data,fy)\n",
    "\n",
    "\n",
    "def miter(da1,da2,key=None):\n",
    "    #print(da1,da2)\n",
    "    #print(\"\\n\\n\")\n",
    "    sa1 = set(da1)\n",
    "    sa2 = set(da2)\n",
    "    print(key)\n",
    "    for i in sa1 - sa2:\n",
    "        print(i)\n",
    "        if key == None:\n",
    "            d[i] = a1[i]\n",
    "        if key != None:\n",
    "            #d[key][i] = dict()\n",
    "            print(d)\n",
    "            print(d)\n",
    "            d[key][i] = a1[key][i]\n",
    "    for j in sa2 - sa1:\n",
    "        #print(j)\n",
    "        if key == None:\n",
    "            d[j] = a2[j]\n",
    "        if key != None:\n",
    "            #d[key][i] = dict()\n",
    "            d[key][j] = a2[key][j]\n",
    "    if sa1.intersection(sa2) != '':\n",
    "        for k in sa1.intersection(sa2):\n",
    "            print(k)\n",
    "            #print(type(a2[k]))\n",
    "            if type(da1[k]) == dict and type(da2[k]) == dict:\n",
    "                print(k)\n",
    "                if key == None:\n",
    "                    d[k] = miter(da1[k],da2[k],k)\n",
    "                if key != None:\n",
    "                    l = list()\n",
    "                    l.append(key)\n",
    "                    d[k] = miter(da1[k],da2[k],l)\n",
    "            elif type(da2[k]) == list:\n",
    "                #print(da2)\n",
    "                #print(k)\n",
    "                if key == None:\n",
    "                    x = set(a1[k])-set(a2[k])\n",
    "                    #print(x)\n",
    "                    d[k] = a2[k]+list(x)\n",
    "                    #print(d[k])\n",
    "                if key != None:\n",
    "                    x = set(a1[key][k])-set(a2[key][k])\n",
    "                    #print(x)\n",
    "                    #print(key)\n",
    "                    d[key][k] = a2[key][k]+list(x)\n",
    "                #print(d)\n",
    "            else:\n",
    "                #print(k)\n",
    "                print(d)\n",
    "                d[key][k] = a2[key][k]\n",
    "\n",
    "d = dict() \n",
    "x = set()\n",
    "filepath = 'ty1.yaml'\n",
    "a1 = yaml_loader(filepath)\n",
    "filepath = 'ty2.yaml'\n",
    "a2 = yaml_loader(filepath)\n",
    "miter(a1,a2)\n",
    "del(d[None])\n",
    "print(d)\n",
    "print(os.getcwd())\n",
    "yaml_dump('ty3.yaml',d)"
   ]
  },
  {
   "cell_type": "code",
   "execution_count": 92,
   "metadata": {},
   "outputs": [
    {
     "name": "stdout",
     "output_type": "stream",
     "text": [
      "None\n",
      "{'list': ['cat', 'elephant']}\n",
      "items\n"
     ]
    },
    {
     "ename": "KeyError",
     "evalue": "'items'",
     "output_type": "error",
     "traceback": [
      "\u001b[1;31m---------------------------------------------------------------------------\u001b[0m",
      "\u001b[1;31mKeyError\u001b[0m                                  Traceback (most recent call last)",
      "\u001b[1;32m<ipython-input-92-f35817eceecf>\u001b[0m in \u001b[0;36m<module>\u001b[1;34m()\u001b[0m\n\u001b[0;32m     53\u001b[0m \u001b[0mfilepath\u001b[0m \u001b[1;33m=\u001b[0m \u001b[1;34m'ty2.yaml'\u001b[0m\u001b[1;33m\u001b[0m\u001b[0m\n\u001b[0;32m     54\u001b[0m \u001b[0ma2\u001b[0m \u001b[1;33m=\u001b[0m \u001b[0myaml_loader\u001b[0m\u001b[1;33m(\u001b[0m\u001b[0mfilepath\u001b[0m\u001b[1;33m)\u001b[0m\u001b[1;33m\u001b[0m\u001b[0m\n\u001b[1;32m---> 55\u001b[1;33m \u001b[0mmiter\u001b[0m\u001b[1;33m(\u001b[0m\u001b[0ma1\u001b[0m\u001b[1;33m,\u001b[0m\u001b[0ma2\u001b[0m\u001b[1;33m)\u001b[0m\u001b[1;33m\u001b[0m\u001b[0m\n\u001b[0m\u001b[0;32m     56\u001b[0m \u001b[1;32mdel\u001b[0m\u001b[1;33m(\u001b[0m\u001b[0md\u001b[0m\u001b[1;33m[\u001b[0m\u001b[1;32mNone\u001b[0m\u001b[1;33m]\u001b[0m\u001b[1;33m)\u001b[0m\u001b[1;33m\u001b[0m\u001b[0m\n\u001b[0;32m     57\u001b[0m \u001b[0mprint\u001b[0m\u001b[1;33m(\u001b[0m\u001b[0md\u001b[0m\u001b[1;33m)\u001b[0m\u001b[1;33m\u001b[0m\u001b[0m\n",
      "\u001b[1;32m<ipython-input-92-f35817eceecf>\u001b[0m in \u001b[0;36mmiter\u001b[1;34m(da1, da2, key)\u001b[0m\n\u001b[0;32m     31\u001b[0m             \u001b[1;32mif\u001b[0m \u001b[0mtype\u001b[0m\u001b[1;33m(\u001b[0m\u001b[0mda1\u001b[0m\u001b[1;33m[\u001b[0m\u001b[0mk\u001b[0m\u001b[1;33m]\u001b[0m\u001b[1;33m)\u001b[0m \u001b[1;33m==\u001b[0m \u001b[0mdict\u001b[0m \u001b[1;32mand\u001b[0m \u001b[0mtype\u001b[0m\u001b[1;33m(\u001b[0m\u001b[0mda2\u001b[0m\u001b[1;33m[\u001b[0m\u001b[0mk\u001b[0m\u001b[1;33m]\u001b[0m\u001b[1;33m)\u001b[0m \u001b[1;33m==\u001b[0m \u001b[0mdict\u001b[0m\u001b[1;33m:\u001b[0m\u001b[1;33m\u001b[0m\u001b[0m\n\u001b[0;32m     32\u001b[0m                 \u001b[1;32mif\u001b[0m \u001b[0mkey\u001b[0m \u001b[1;33m==\u001b[0m \u001b[1;32mNone\u001b[0m\u001b[1;33m:\u001b[0m\u001b[1;33m\u001b[0m\u001b[0m\n\u001b[1;32m---> 33\u001b[1;33m                     \u001b[0md\u001b[0m\u001b[1;33m[\u001b[0m\u001b[0mk\u001b[0m\u001b[1;33m]\u001b[0m \u001b[1;33m=\u001b[0m \u001b[0mmiter\u001b[0m\u001b[1;33m(\u001b[0m\u001b[0mda1\u001b[0m\u001b[1;33m[\u001b[0m\u001b[0mk\u001b[0m\u001b[1;33m]\u001b[0m\u001b[1;33m,\u001b[0m\u001b[0mda2\u001b[0m\u001b[1;33m[\u001b[0m\u001b[0mk\u001b[0m\u001b[1;33m]\u001b[0m\u001b[1;33m,\u001b[0m\u001b[0mk\u001b[0m\u001b[1;33m)\u001b[0m\u001b[1;33m\u001b[0m\u001b[0m\n\u001b[0m\u001b[0;32m     34\u001b[0m                 \u001b[1;32mif\u001b[0m \u001b[0mkey\u001b[0m \u001b[1;33m!=\u001b[0m \u001b[1;32mNone\u001b[0m\u001b[1;33m:\u001b[0m\u001b[1;33m\u001b[0m\u001b[0m\n\u001b[0;32m     35\u001b[0m                     \u001b[0md\u001b[0m\u001b[1;33m[\u001b[0m\u001b[0mk\u001b[0m\u001b[1;33m]\u001b[0m \u001b[1;33m=\u001b[0m \u001b[0mmiter\u001b[0m\u001b[1;33m(\u001b[0m\u001b[0mda1\u001b[0m\u001b[1;33m[\u001b[0m\u001b[0mk\u001b[0m\u001b[1;33m]\u001b[0m\u001b[1;33m,\u001b[0m\u001b[0mda2\u001b[0m\u001b[1;33m[\u001b[0m\u001b[0mk\u001b[0m\u001b[1;33m]\u001b[0m\u001b[1;33m,\u001b[0m\u001b[0mk\u001b[0m\u001b[1;33m)\u001b[0m\u001b[1;33m\u001b[0m\u001b[0m\n",
      "\u001b[1;32m<ipython-input-92-f35817eceecf>\u001b[0m in \u001b[0;36mmiter\u001b[1;34m(da1, da2, key)\u001b[0m\n\u001b[0;32m     20\u001b[0m             \u001b[0md\u001b[0m\u001b[1;33m[\u001b[0m\u001b[0mi\u001b[0m\u001b[1;33m]\u001b[0m \u001b[1;33m=\u001b[0m \u001b[0ma1\u001b[0m\u001b[1;33m[\u001b[0m\u001b[0mi\u001b[0m\u001b[1;33m]\u001b[0m\u001b[1;33m\u001b[0m\u001b[0m\n\u001b[0;32m     21\u001b[0m         \u001b[1;32mif\u001b[0m \u001b[0mkey\u001b[0m \u001b[1;33m!=\u001b[0m \u001b[1;32mNone\u001b[0m\u001b[1;33m:\u001b[0m\u001b[1;33m\u001b[0m\u001b[0m\n\u001b[1;32m---> 22\u001b[1;33m             \u001b[0md\u001b[0m\u001b[1;33m[\u001b[0m\u001b[0mkey\u001b[0m\u001b[1;33m]\u001b[0m\u001b[1;33m[\u001b[0m\u001b[0mi\u001b[0m\u001b[1;33m]\u001b[0m \u001b[1;33m=\u001b[0m \u001b[0ma1\u001b[0m\u001b[1;33m[\u001b[0m\u001b[0mkey\u001b[0m\u001b[1;33m]\u001b[0m\u001b[1;33m[\u001b[0m\u001b[0mi\u001b[0m\u001b[1;33m]\u001b[0m\u001b[1;33m\u001b[0m\u001b[0m\n\u001b[0m\u001b[0;32m     23\u001b[0m     \u001b[1;32mfor\u001b[0m \u001b[0mj\u001b[0m \u001b[1;32min\u001b[0m \u001b[0msa2\u001b[0m \u001b[1;33m-\u001b[0m \u001b[0msa1\u001b[0m\u001b[1;33m:\u001b[0m\u001b[1;33m\u001b[0m\u001b[0m\n\u001b[0;32m     24\u001b[0m         \u001b[1;32mif\u001b[0m \u001b[0mkey\u001b[0m \u001b[1;33m==\u001b[0m \u001b[1;32mNone\u001b[0m\u001b[1;33m:\u001b[0m\u001b[1;33m\u001b[0m\u001b[0m\n",
      "\u001b[1;31mKeyError\u001b[0m: 'items'"
     ]
    }
   ],
   "source": [
    "import yaml\n",
    "import os\n",
    "\n",
    "def yaml_loader(filepath):\n",
    "    with open(filepath,'r+') as fy:\n",
    "        data = yaml.load(fy)\n",
    "    return data\n",
    "\n",
    "def yaml_dump(filepath,data):\n",
    "    with open(filepath,'r+') as fy:\n",
    "        yaml.dump(data,fy)\n",
    "\n",
    "\n",
    "def miter(da1,da2,key=None):\n",
    "    sa1 = set(da1)\n",
    "    sa2 = set(da2)\n",
    "    print(key)\n",
    "    for i in sa1 - sa2:\n",
    "            d[i] = a1[i]\n",
    "    for j in sa2 - sa1:\n",
    "            d[j] = a2[j]\n",
    "    if sa1.intersection(sa2) != '':\n",
    "        for k in sa1.intersection(sa2):\n",
    "            if type(da1[k]) == dict and type(da2[k]) == dict:\n",
    "                if key == None:\n",
    "                    d[k] = miter(da1[k],da2[k],k)\n",
    "                if key != None:\n",
    "                    d[k] = miter(da1[k],da2[k],k)\n",
    "            elif type(da2[k]) == list:\n",
    "                if key == None:\n",
    "                    x = set(a1[k])-set(a2[k])\n",
    "                    d[k] = a2[k]+list(x)\n",
    "                if key != None:\n",
    "                    x = set(a1[key][k])-set(a2[key][k])\n",
    "                    d[key][k] = a2[key][k]+list(x)\n",
    "                    return d\n",
    "            else:\n",
    "                d[key][k] = a2[key][k]\n",
    "                return d\n",
    "\n",
    "d = dict() \n",
    "ds = dict()\n",
    "x = set()\n",
    "filepath = 'ty1.yaml'\n",
    "a1 = yaml_loader(filepath)\n",
    "filepath = 'ty2.yaml'\n",
    "a2 = yaml_loader(filepath)\n",
    "miter(a1,a2)\n",
    "del(d[None])\n",
    "print(d)\n",
    "print(os.getcwd())\n",
    "yaml_dump('ty3.yaml',d)"
   ]
  },
  {
   "cell_type": "code",
   "execution_count": 99,
   "metadata": {},
   "outputs": [
    {
     "data": {
      "text/plain": [
       "{'items': {'axe': {'size': 15},\n",
       "  'gun': 10,\n",
       "  'pistol': 'new',\n",
       "  'rocket': ['??', '12'],\n",
       "  'sword': {'size': 12}},\n",
       " 'li': ['deer', 'rabbit'],\n",
       " 'list': ['cat', 'elephant'],\n",
       " 'property': {'House': {'bunglow': 14,\n",
       "   'duplex': 45,\n",
       "   'flat': {'1-bhk': {'hall': 2, 'kitchen': 3}, '2-bhk': 5, '3-bhk': 8}}}}"
      ]
     },
     "execution_count": 99,
     "metadata": {},
     "output_type": "execute_result"
    }
   ],
   "source": [
    "import collections\n",
    "\n",
    "\n",
    "\n",
    "d={'level1':{'level2':{'levelA':0,'levelB':1}}}\n",
    "u={'level1':{'level2':{'levelB':10,'levelC':12}}}\n",
    "\n",
    "\n",
    "def update(d, u):\n",
    "    for k, v in u.items():\n",
    "        if isinstance(v, collections.Mapping):\n",
    "            d[k] = update(d.get(k, {}), v)\n",
    "        else:\n",
    "            d[k] = v\n",
    "    return d\n",
    "\n",
    "update(d,u)"
   ]
  },
  {
   "cell_type": "code",
   "execution_count": 180,
   "metadata": {},
   "outputs": [
    {
     "name": "stdout",
     "output_type": "stream",
     "text": [
      "F:\\Hisoka\\test_build\\test case 1\\dir1\\dir2\\dir3\n",
      "F:\\Hisoka\\test_build\\test case 1\\dir1\\dir2\\dir3\n"
     ]
    }
   ],
   "source": [
    "import collections\n",
    "import yaml\n",
    "import os\n",
    "\n",
    "def yaml_loader(filepath):\n",
    "    with open(filepath,'r+') as fy:\n",
    "        data = yaml.load(fy)\n",
    "    return data\n",
    "\n",
    "def yaml_dump(filepath,data):\n",
    "    with open(filepath,'r+') as fy:\n",
    "        yaml.dump(data,fy)\n",
    "\n",
    "\n",
    "def update(d, u):\n",
    "    for k, v in u.items():\n",
    "        if isinstance(v, collections.Mapping):\n",
    "            d[k] = update(d.get(k, {}), v)\n",
    "        else:\n",
    "            if type(v)==list:\n",
    "                x = set(d[k])- set(v)\n",
    "                d[k] = v+list(x)\n",
    "            else:\n",
    "                d[k] = v\n",
    "    return d\n",
    "\n",
    "filepath = 'F://Hisoka/test_build/test case 1/dir1/dir2/dir3/dir4/input.yaml'\n",
    "a1 = yaml_loader(filepath)\n",
    "filepath = 'F://Hisoka/test_build/test case 1/dir1/dir2/dir3/input.yaml'\n",
    "a2 = yaml_loader(filepath)\n",
    "\n",
    "d = update(a1,a2)\n",
    "yaml_dump(filepath,d)\n",
    "#print(d)\n",
    "print(os.path.abspath(os.curdir))\n",
    "print(os.getcwd())"
   ]
  },
  {
   "cell_type": "code",
   "execution_count": 149,
   "metadata": {},
   "outputs": [
    {
     "data": {
      "text/plain": [
       "'F:\\\\Hisoka'"
      ]
     },
     "execution_count": 149,
     "metadata": {},
     "output_type": "execute_result"
    }
   ],
   "source": [
    "os.getcwd()"
   ]
  },
  {
   "cell_type": "code",
   "execution_count": 178,
   "metadata": {},
   "outputs": [
    {
     "name": "stdout",
     "output_type": "stream",
     "text": [
      "F:\\Hisoka\\test_build\\test case 1\\dir1\\dir2\\dir3\\dir4\n",
      "['dir4', 'input.yaml']\n",
      "hello\n"
     ]
    }
   ],
   "source": [
    "filepath = 'F://Hisoka/test_build/test case 1/dir1/dir2/dir3/dir4/input.yaml'\n",
    "#a1 = yaml_loader(filepath)\n",
    "head, filename = os.path.split(filepath)\n",
    "os.chdir(head)\n",
    "#print(os.getcwd())\n",
    "os.chdir(\"..\")\n",
    "parent = os.listdir(\".\")\n",
    "#print(parent)\n",
    "if filename in parent:\n",
    "    print(\"I should merge\")"
   ]
  },
  {
   "cell_type": "code",
   "execution_count": null,
   "metadata": {},
   "outputs": [],
   "source": []
  }
 ],
 "metadata": {
  "kernelspec": {
   "display_name": "Python 3",
   "language": "python",
   "name": "python3"
  },
  "language_info": {
   "codemirror_mode": {
    "name": "ipython",
    "version": 3
   },
   "file_extension": ".py",
   "mimetype": "text/x-python",
   "name": "python",
   "nbconvert_exporter": "python",
   "pygments_lexer": "ipython3",
   "version": "3.6.6"
  }
 },
 "nbformat": 4,
 "nbformat_minor": 2
}
